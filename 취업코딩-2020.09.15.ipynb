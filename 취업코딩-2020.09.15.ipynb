{
 "cells": [
  {
   "cell_type": "markdown",
   "metadata": {},
   "source": [
    "#### <실전문제 4> 1이 될 때까지큰 수의 법칙"
   ]
  },
  {
   "cell_type": "code",
   "execution_count": null,
   "metadata": {},
   "outputs": [],
   "source": [
    "import sys\n",
    "\n",
    "N, K = map(int, sys.stdin.readline().split())\n",
    "cnt = 0\n",
    "\n",
    "while (True):\n",
    "    if N == 1:\n",
    "        break\n",
    "    elif N % K == 0:\n",
    "        N = N // K\n",
    "        cnt += 1\n",
    "    else:\n",
    "        N = N-1\n",
    "        cnt += 1\n",
    "\n",
    "print(cnt)"
   ]
  },
  {
   "cell_type": "code",
   "execution_count": null,
   "metadata": {},
   "outputs": [],
   "source": [
    "#### <실전문제 4> 1이 될 때까지큰 수의 법칙"
   ]
  },
  {
   "cell_type": "code",
   "execution_count": null,
   "metadata": {},
   "outputs": [],
   "source": [
    "N = int(input())\n",
    "cnt = 0\n",
    "\n",
    "while True:\n",
    "    if N % 5 == 0:\n",
    "        cnt += N//5\n",
    "        print(cnt)\n",
    "        break\n",
    "    else:\n",
    "        N = N -3\n",
    "        cnt +=1\n",
    "        continue"
   ]
  }
 ],
 "metadata": {
  "kernelspec": {
   "display_name": "Python 3",
   "language": "python",
   "name": "python3"
  },
  "language_info": {
   "codemirror_mode": {
    "name": "ipython",
    "version": 3
   },
   "file_extension": ".py",
   "mimetype": "text/x-python",
   "name": "python",
   "nbconvert_exporter": "python",
   "pygments_lexer": "ipython3",
   "version": "3.7.6"
  }
 },
 "nbformat": 4,
 "nbformat_minor": 4
}
