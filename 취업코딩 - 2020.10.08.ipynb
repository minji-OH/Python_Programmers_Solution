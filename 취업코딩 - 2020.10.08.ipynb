{
 "cells": [
  {
   "cell_type": "markdown",
   "metadata": {},
   "source": [
    "#### 음료수 얼려먹기"
   ]
  },
  {
   "cell_type": "code",
   "execution_count": 11,
   "metadata": {},
   "outputs": [
    {
     "name": "stdout",
     "output_type": "stream",
     "text": [
      "4 5\n",
      "00110\n",
      "00011\n",
      "11111\n",
      "00000\n",
      "3\n"
     ]
    }
   ],
   "source": [
    "import sys\n",
    "\n",
    "N, M = map(int, sys.stdin.readline().split())\n",
    "ice_map = [list(map(int, sys.stdin.readline())) for _ in range(N)]\n",
    "\n",
    "# 지정 노드와 연결된 모든 노드 방문하는 DFS 함수\n",
    "def DFS(x, y):\n",
    "    \n",
    "    #ice_map 범위 넘어서는지 확인\n",
    "    if x<= -1 or y <= -1 or x >=N or y >=M:\n",
    "        return False\n",
    "    \n",
    "    #구멍이 뚫려있는 부분이면\n",
    "    if ice_map[x][y] == 0:\n",
    "        ice_map[x][y] = 1 #방문처리\n",
    "        DFS(x, y+1) #상\n",
    "        DFS(x, y-1) #하\n",
    "        DFS(x-1, y) #좌\n",
    "        DSF(x+1, y) #우\n",
    "        return True\n",
    "    \n",
    "    #if문 두개 조건 안 맞으면 칸막이 부분이니까\n",
    "    return False\n",
    "\n",
    "cnt = 0\n",
    "\n",
    "for a in range(N):\n",
    "    for b in range(M):\n",
    "        if DFS(a, b) is True:\n",
    "            cnt +=1\n",
    "\n",
    "print(cnt)    "
   ]
  },
  {
   "cell_type": "markdown",
   "metadata": {},
   "source": [
    "#### 미로"
   ]
  },
  {
   "cell_type": "code",
   "execution_count": 19,
   "metadata": {},
   "outputs": [
    {
     "name": "stdout",
     "output_type": "stream",
     "text": [
      "5 6\n",
      "101010\n",
      "111111\n",
      "000001\n",
      "111111\n",
      "111111\n"
     ]
    },
    {
     "data": {
      "text/plain": [
       "10"
      ]
     },
     "execution_count": 19,
     "metadata": {},
     "output_type": "execute_result"
    }
   ],
   "source": [
    "import sys\n",
    "from collections import deque\n",
    "\n",
    "N, M = map(int, sys.stdin.readline().split())\n",
    "maze_map = [list(map(int, sys.stdin.readline())) for _ in range(N)]\n",
    "\n",
    "dx = [-1, 0, 1, 0]\n",
    "dy = [0, 1, 0, -1]\n",
    "\n",
    "def BFS(x, y):\n",
    "    queue = deque()\n",
    "    queue.append((x, y))\n",
    "    \n",
    "    while queue:\n",
    "        x, y = queue.popleft()\n",
    "        for i in range (4):\n",
    "            x_next = x + dx[i]\n",
    "            y_next = y + dy[i]\n",
    "            \n",
    "            # 범위 벗어나면 무시\n",
    "            if x_next <= -1 or y_next <= -1 or x_next >= N or y_next >= M:\n",
    "                continue\n",
    "                \n",
    "            # 괴물 무시        \n",
    "            if maze_map[x_next][y_next] == 0:\n",
    "                continue\n",
    "            \n",
    "            # 괴물 없으면 지나간 표시하기\n",
    "            if maze_map[x_next][y_next] == 1:\n",
    "                maze_map[x_next][y_next] = maze_map[x][y] + 1\n",
    "                queue.append((x_next, y_next))\n",
    "    \n",
    "    return maze_map[N-1][M-1]          \n",
    "\n",
    "BFS(0,0)"
   ]
  }
 ],
 "metadata": {
  "kernelspec": {
   "display_name": "Python 3",
   "language": "python",
   "name": "python3"
  }
 },
 "nbformat": 4,
 "nbformat_minor": 4
}
