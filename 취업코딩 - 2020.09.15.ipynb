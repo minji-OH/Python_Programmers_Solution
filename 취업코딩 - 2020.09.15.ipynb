{
 "cells": [
  {
   "cell_type": "markdown",
   "metadata": {},
   "source": [
    "#### <실전문제 4> 1이 될 때까지"
   ]
  },
  {
   "cell_type": "code",
   "execution_count": null,
   "metadata": {},
   "outputs": [],
   "source": [
    "import sys\n",
    "\n",
    "N, K = map(int, input().split())\n",
    "cnt = 0\n",
    "while True:\n",
    "    if N == 1:\n",
    "        print(cnt)\n",
    "        break\n",
    "    else:\n",
    "        if N % K == 0:\n",
    "            N = N // K\n",
    "            cnt += 1\n",
    "        else:\n",
    "            N = N-1\n",
    "            cnt +=1"
   ]
  }
 ],
 "metadata": {
  "kernelspec": {
   "display_name": "Python 3",
   "language": "python",
   "name": "python3"
  },
  "language_info": {
   "codemirror_mode": {
    "name": "ipython",
    "version": 3
   },
   "file_extension": ".py",
   "mimetype": "text/x-python",
   "name": "python",
   "nbconvert_exporter": "python",
   "pygments_lexer": "ipython3",
   "version": "3.7.6"
  }
 },
 "nbformat": 4,
 "nbformat_minor": 4
}
