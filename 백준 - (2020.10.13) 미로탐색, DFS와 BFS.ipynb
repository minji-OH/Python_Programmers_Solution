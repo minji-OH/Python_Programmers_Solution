{
 "cells": [
  {
   "cell_type": "markdown",
   "metadata": {},
   "source": [
    "### 미로탐색"
   ]
  },
  {
   "cell_type": "code",
   "execution_count": 3,
   "metadata": {},
   "outputs": [
    {
     "name": "stdout",
     "output_type": "stream",
     "text": [
      "4 6\n",
      "110110\n",
      "110110\n",
      "111111\n",
      "111101\n"
     ]
    },
    {
     "data": {
      "text/plain": [
       "9"
      ]
     },
     "execution_count": 3,
     "metadata": {},
     "output_type": "execute_result"
    }
   ],
   "source": [
    "import sys\n",
    "from collections import deque\n",
    "\n",
    "N, M = map(int, sys.stdin.readline().split())\n",
    "maze_map = [list(map(int, sys.stdin.readline())) for _ in range(N)]\n",
    "\n",
    "dx = [-1, 0, 1, 0]\n",
    "dy = [0, 1, 0, -1]\n",
    "\n",
    "def BFS(x, y):\n",
    "    queue = deque()\n",
    "    queue.append((x, y))\n",
    "    \n",
    "    while queue:\n",
    "        x, y = queue.popleft()\n",
    "        for i in range (4):\n",
    "            x_next = x + dx[i]\n",
    "            y_next = y + dy[i]\n",
    "            \n",
    "            # 범위 벗어나면 무시\n",
    "            if x_next <= -1 or y_next <= -1 or x_next >= N or y_next >= M:\n",
    "                continue\n",
    "                \n",
    "            # 이동 못 하는 칸 무시        \n",
    "            if maze_map[x_next][y_next] == 0:\n",
    "                continue\n",
    "            \n",
    "            # 지나갈 수 있으면 지나간 표시하기\n",
    "            if maze_map[x_next][y_next] == 1:\n",
    "                maze_map[x_next][y_next] = maze_map[x][y] + 1\n",
    "                queue.append((x_next, y_next))\n",
    "    \n",
    "    return maze_map[N-1][M-1]          \n",
    "\n",
    "print(BFS(0,0))"
   ]
  },
  {
   "cell_type": "markdown",
   "metadata": {},
   "source": [
    "### DFS와 BFS  -->>> 결과가 이상함"
   ]
  },
  {
   "cell_type": "code",
   "execution_count": 9,
   "metadata": {},
   "outputs": [
    {
     "name": "stdout",
     "output_type": "stream",
     "text": [
      "4 5 1\n",
      "1 2\n",
      "1 3\n",
      "1 4\n",
      "2 4\n",
      "3 4\n",
      "1 None\n",
      "1 None\n"
     ]
    }
   ],
   "source": [
    "import sys\n",
    "from collections import deque\n",
    "\n",
    "N, M, V = map(int, input().split())\n",
    "\n",
    "matrix = [[0]*(N+1) for i in range (N+1)]\n",
    "for i in range(M):\n",
    "    x, y = map(int, input().split())\n",
    "    matrix[x][y] = matrix[y][x] = 1\n",
    "    \n",
    "visited = [False]*(N+1)\n",
    "\n",
    "def DFS(V):\n",
    "    visited[V] = True\n",
    "    print(V, end=' ')\n",
    "    for i in matrix[V]:\n",
    "        if visited[i] == False and matrix[V][i] == True:\n",
    "            DFS(V)\n",
    "            \n",
    "def BFS(V):\n",
    "    queue = deque([V])\n",
    "    visited[V] = True\n",
    "    while queue:\n",
    "        V=queue.popleft()\n",
    "        print(V, end=' ')\n",
    "        for i in matrix[V]:\n",
    "            if visited[i] == False and matrix[V][i] == True:\n",
    "                queue.append(i)\n",
    "                visited[i] = True\n",
    "                \n",
    "print(DFS(V))\n",
    "print(BFS(V))"
   ]
  }
 ],
 "metadata": {
  "kernelspec": {
   "display_name": "Python 3",
   "language": "python",
   "name": "python3"
  },
  "language_info": {
   "codemirror_mode": {
    "name": "ipython",
    "version": 3
   },
   "file_extension": ".py",
   "mimetype": "text/x-python",
   "name": "python",
   "nbconvert_exporter": "python",
   "pygments_lexer": "ipython3",
   "version": "3.7.6"
  }
 },
 "nbformat": 4,
 "nbformat_minor": 4
}
