{
 "cells": [
  {
   "cell_type": "markdown",
   "metadata": {},
   "source": [
    "#### 상하좌우"
   ]
  },
  {
   "cell_type": "code",
   "execution_count": 6,
   "metadata": {},
   "outputs": [
    {
     "name": "stdout",
     "output_type": "stream",
     "text": [
      "5\n",
      "R R R U D D\n",
      "3 4\n"
     ]
    }
   ],
   "source": [
    "import sys\n",
    "\n",
    "N = int(sys.stdin.readline())\n",
    "L=list(map(str, sys.stdin.readline().split()))\n",
    "x, y = int(1), int(1)\n",
    "\n",
    "for i in range (len(L)):\n",
    "    if L[i] == \"L\":\n",
    "        y -= 1\n",
    "        if y == 0:\n",
    "            y += 1\n",
    "    elif L[i] == \"R\":\n",
    "        y += 1\n",
    "        if y == 6:\n",
    "            y -= 1\n",
    "    elif L[i] == \"U\":\n",
    "        x -= 1\n",
    "        if x == 0:\n",
    "            x += 1\n",
    "    elif L[i] == \"D\":\n",
    "        x += 1\n",
    "        if x == 6:\n",
    "            x -= 1\n",
    "\n",
    "print(x, y)"
   ]
  },
  {
   "cell_type": "markdown",
   "metadata": {},
   "source": [
    "#### 시각"
   ]
  },
  {
   "cell_type": "code",
   "execution_count": 16,
   "metadata": {},
   "outputs": [
    {
     "name": "stdout",
     "output_type": "stream",
     "text": [
      "5\n",
      "11475\n"
     ]
    }
   ],
   "source": [
    "import sys\n",
    "\n",
    "#입력\n",
    "N=int(sys.stdin.readline())\n",
    "\n",
    "#3시, 13시, 23시에 가능한 [분:초] 경우의 수\n",
    "time_in_3 = 60**2\n",
    "\n",
    "#나머지 시간에 가능한 [분:초] 경우의 수\n",
    "time_out_3 = (6*10*6*10) - (5*9*5*9)\n",
    "\n",
    "if N < 3:\n",
    "    answer = (N+1)*time_out_3\n",
    "elif N >= 3 and N <13:\n",
    "    answer = N*time_out_3 + time_in_3\n",
    "elif N >= 13 and N < 23:\n",
    "    answer = (N-1)*time_out_3 + 2*time_in_3\n",
    "elif N == 23:\n",
    "    answer = (N-2)*time_out_3 + 3*time_in_3\n",
    "\n",
    "print(answer)"
   ]
  },
  {
   "cell_type": "markdown",
   "metadata": {},
   "source": [
    "#### 왕실의 나이트"
   ]
  },
  {
   "cell_type": "code",
   "execution_count": 4,
   "metadata": {},
   "outputs": [
    {
     "name": "stdout",
     "output_type": "stream",
     "text": [
      "a1\n",
      "2\n"
     ]
    }
   ],
   "source": [
    "import sys\n",
    "\n",
    "# 입력\n",
    "loca = sys.stdin.readline()\n",
    "\n",
    "# 문자를 x, y 위치로 변환\n",
    "x = int(ord(loca[0])) - int(ord('a')) + 1\n",
    "y = int(loca[1])\n",
    "\n",
    "# 나이트가 이동할 수 있는 방향\n",
    "directions = [(1,2),(2,1),(-1,2),(-2,1),(-2,-1),(-1,-2),(1,-2),(2,-1)]\n",
    "\n",
    "cnt = 0\n",
    "\n",
    "for i in directions:\n",
    "    x_next = x + i[1]\n",
    "    y_next = y + i[0]\n",
    "    # 새로운 위치로 이동할 수 있는지 확인\n",
    "    if x_next >= 1 and x_next <= 8 and y_next >=1 and y_next <= 8:\n",
    "        cnt += 1\n",
    "        \n",
    "print(cnt)"
   ]
  },
  {
   "cell_type": "markdown",
   "metadata": {},
   "source": [
    "#### 게임개발"
   ]
  },
  {
   "cell_type": "code",
   "execution_count": null,
   "metadata": {},
   "outputs": [],
   "source": [
    "import sys\n",
    "\n",
    "# 입력\n",
    "N, M = map(int, sys.stdin.readline().split())\n",
    "A, B, d = map(int, sys.stdin.readline().split())\n",
    "map = []\n",
    "for i in range(N):\n",
    "    m = list(map(int, sys.stdin.readline().split()))\n",
    "    map.append(m)\n",
    "\n",
    "# 방문여부 정보 저장하는 맵\n",
    "visited = [[0]*M for _ in range (N)]\n",
    "# 첫번째 위치는 방문표시\n",
    "visitied[A][B] = 1\n",
    "\n",
    "# 방향 (북-동-남-서)\n",
    "dx = [-1, 0, 1, 0]\n",
    "dy = [0, 1, 0, -1]\n",
    "\n",
    "###############################\n",
    "# 왼쪽 회전...을 어떻게 하지? #\n",
    "###############################\n",
    "def left():\n",
    "    global d\n",
    "    d....?\n",
    "    \n",
    "    \n",
    "# 회전을 정의하고 이동시켜보기\n",
    "cnt = 1      # 방문한 육지 개수\n",
    "turn_cnt = 0 # 네 방향 모두 확인\n",
    "while True:\n",
    "    # 왼쪽방향으로 회전\n",
    "    left()\n",
    "    x_next = x + dx[d]\n",
    "    y_next = y + dx[y]\n",
    "    \n",
    "    # 왼쪽방향으로 회전 후 아직 가보지 않은 육지가 존재한다면, 왼쪽 방향으로 회전한 다음 왼쪽으로 한 칸 전진\n",
    "    if visited[x_next][y_next] == 0 and map[x_next][y_next] == 0:\n",
    "        # 방문표시\n",
    "        visited[x_next][y_next] = 1\n",
    "        cnt = 1\n",
    "        turn_cnt = 0\n",
    "        x = x_next\n",
    "        y = y_next\n",
    "        continue\n",
    "    \n",
    "    # 왼쪽으로 회전했는데 갈 수 없는(바다 or 이미 가본 육지) 곳이라면 다음 방향 확인\n",
    "    else:\n",
    "        turn_cnt += 1\n",
    "    \n",
    "    # 네 방향 모두 이미 가본 칸이거나 바다로 되어있으면\n",
    "    if turn_cnt == 4:\n",
    "        ###############################################\n",
    "        # 바라보는 방향을 유지한 채로 한 칸 뒤로 가고 #\n",
    "        ###############################################\n",
    "        바라보는 방향을 유지한 채로 한 칸 뒤로 가는걸 어떻게 구현할지 모르겠음.\n",
    "        \n",
    "        # 뒤로 갈 수 있으면 가고\n",
    "        if map[x_next][y_next] == 0:\n",
    "            x = x_next\n",
    "            y = y_next\n",
    "        \n",
    "        # 뒤쪽 방향이 바다라면\n",
    "        else:\n",
    "            # 움직임을 멈춤\n",
    "            break\n",
    "\n",
    "print(cnt)\n",
    "    \n",
    "    "
   ]
  }
 ],
 "metadata": {
  "kernelspec": {
   "display_name": "Python 3",
   "language": "python",
   "name": "python3"
  },
  "language_info": {
   "codemirror_mode": {
    "name": "ipython",
    "version": 3
   },
   "file_extension": ".py",
   "mimetype": "text/x-python",
   "name": "python",
   "nbconvert_exporter": "python",
   "pygments_lexer": "ipython3",
   "version": "3.7.6"
  }
 },
 "nbformat": 4,
 "nbformat_minor": 4
}
