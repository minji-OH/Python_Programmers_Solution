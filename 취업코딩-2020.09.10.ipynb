{
 "cells": [
  {
   "cell_type": "markdown",
   "metadata": {},
   "source": [
    "### <실전문제 2> 큰 수의 법칙"
   ]
  },
  {
   "cell_type": "code",
   "execution_count": 7,
   "metadata": {},
   "outputs": [
    {
     "name": "stdout",
     "output_type": "stream",
     "text": [
      "5 8 3\n",
      "2 4 6 4 8\n",
      "60\n"
     ]
    }
   ],
   "source": [
    "#입력받기\n",
    "N, M, K = map(int, input().split())\n",
    "arr=list(map(int, input().split()))\n",
    "arr.sort(reverse=True)\n",
    "\n",
    "#가장 큰 수를 B, 두번째로 큰 수를 b\n",
    "B = arr[0]\n",
    "b = arr[1]\n",
    "\n",
    "# [B+B+..+B+B+b]의 원소 수가 M을 채울 때까지 반복해준 것을 더하면 됨\n",
    "Bsum = B*K*(M//(K+1)) + B*(M%(K+1))\n",
    "bsum = b*(M//(K+1))\n",
    "\n",
    "print(Bsum+bsum)"
   ]
  },
  {
   "cell_type": "markdown",
   "metadata": {},
   "source": [
    "### <실전문제 3> "
   ]
  },
  {
   "cell_type": "code",
   "execution_count": null,
   "metadata": {},
   "outputs": [],
   "source": [
    "# 입력받기\n",
    "N, M = map(int, input().split())\n",
    "\n",
    "select=[]\n",
    "\n",
    "# 한 행씩 돌면서 최소값을 select 리스트에 넣음\n",
    "for i in range(1, N+1):\n",
    "    arr=list(map(int, input().split()))\n",
    "    m=min(arr)\n",
    "    select.append(m)\n",
    "\n",
    "# select에서 최대값이 답\n",
    "print(max(select))"
   ]
  }
 ],
 "metadata": {
  "kernelspec": {
   "display_name": "Python 3",
   "language": "python",
   "name": "python3"
  },
  "language_info": {
   "codemirror_mode": {
    "name": "ipython",
    "version": 3
   },
   "file_extension": ".py",
   "mimetype": "text/x-python",
   "name": "python",
   "nbconvert_exporter": "python",
   "pygments_lexer": "ipython3",
   "version": "3.7.6"
  }
 },
 "nbformat": 4,
 "nbformat_minor": 4
}
