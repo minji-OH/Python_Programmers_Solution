{
 "cells": [
  {
   "cell_type": "markdown",
   "metadata": {},
   "source": [
    "#### 별찍기"
   ]
  },
  {
   "cell_type": "code",
   "execution_count": 2,
   "metadata": {},
   "outputs": [
    {
     "name": "stdout",
     "output_type": "stream",
     "text": [
      "4\n",
      "   *\n",
      "  * *\n",
      " *   *\n",
      "*******\n"
     ]
    }
   ],
   "source": [
    "import sys\n",
    "\n",
    "N = int(sys.stdin.readline())\n",
    "\n",
    "if N == 1:\n",
    "    print(\"*\")\n",
    "elif N == 2:\n",
    "    print(\" *\")\n",
    "    print(\"***\")\n",
    "else:\n",
    "    print(\" \" * (N - 1) + \"*\")\n",
    "    for j in range (N-2):\n",
    "        print(\" \"*(N-(j+2))+\"*\"+\" \"*(2*(j+1)-1)+\"*\")\n",
    "    print(\"*\"*(2*N-1))"
   ]
  },
  {
   "cell_type": "markdown",
   "metadata": {},
   "source": [
    "#### 킹"
   ]
  },
  {
   "cell_type": "code",
   "execution_count": 3,
   "metadata": {},
   "outputs": [
    {
     "name": "stdout",
     "output_type": "stream",
     "text": [
      "A1 A2 2\n",
      "[<bound method Kernel.raw_input of <ipykernel.ipkernel.IPythonKernel object at 0x000001B12B19FD88>>, <bound method Kernel.raw_input of <ipykernel.ipkernel.IPythonKernel object at 0x000001B12B19FD88>>]\n"
     ]
    }
   ],
   "source": [
    "import sys\n",
    "\n",
    "# 입력\n",
    "K, S, N = sys.stdin.readline().split()\n",
    "K, S = str(K), str(S)\n",
    "N = int(N)\n",
    "directions=[]\n",
    "for i in range (N):\n",
    "    a=str(sys.stdin.readline().strip())\n",
    "    directions.append(a)\n",
    "\n"
   ]
  },
  {
   "cell_type": "markdown",
   "metadata": {},
   "source": [
    "#### 자리배정"
   ]
  },
  {
   "cell_type": "code",
   "execution_count": 4,
   "metadata": {},
   "outputs": [
    {
     "name": "stdout",
     "output_type": "stream",
     "text": [
      "a1\n",
      "2\n"
     ]
    }
   ],
   "source": [
    "import sys\n",
    "\n",
    "# 입력\n",
    "loca = sys.stdin.readline()\n",
    "\n",
    "# 문자를 x, y 위치로 변환\n",
    "x = int(ord(loca[0])) - int(ord('a')) + 1\n",
    "y = int(loca[1])\n",
    "\n",
    "# 나이트가 이동할 수 있는 방향\n",
    "directions = [(1,2),(2,1),(-1,2),(-2,1),(-2,-1),(-1,-2),(1,-2),(2,-1)]\n",
    "\n",
    "cnt = 0\n",
    "\n",
    "for i in directions:\n",
    "    x_next = x + i[1]\n",
    "    y_next = y + i[0]\n",
    "    # 새로운 위치로 이동할 수 있는지 확인\n",
    "    if x_next >= 1 and x_next <= 8 and y_next >=1 and y_next <= 8:\n",
    "        cnt += 1\n",
    "        \n",
    "print(cnt)"
   ]
  }
 ],
 "metadata": {
  "kernelspec": {
   "display_name": "Python 3",
   "language": "python",
   "name": "python3"
  },
  "language_info": {
   "codemirror_mode": {
    "name": "ipython",
    "version": 3
   },
   "file_extension": ".py",
   "mimetype": "text/x-python",
   "name": "python",
   "nbconvert_exporter": "python",
   "pygments_lexer": "ipython3",
   "version": "3.7.6"
  }
 },
 "nbformat": 4,
 "nbformat_minor": 4
}
