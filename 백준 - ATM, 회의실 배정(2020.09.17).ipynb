{
 "cells": [
  {
   "cell_type": "markdown",
   "metadata": {},
   "source": [
    "#### ATM"
   ]
  },
  {
   "cell_type": "code",
   "execution_count": null,
   "metadata": {},
   "outputs": [],
   "source": [
    "import sys\n",
    "\n",
    "N = int(sys.stdin.readline())\n",
    "L=list(map(int, sys.stdin.readline().split()))\n",
    "L.sort()\n",
    "f_sum=0\n",
    "for i in range(N):\n",
    "    f_sum += L[i]*(N-i)\n",
    "\n",
    "print(f_sum)"
   ]
  },
  {
   "cell_type": "markdown",
   "metadata": {},
   "source": [
    "#### 회의실 배정"
   ]
  },
  {
   "cell_type": "code",
   "execution_count": null,
   "metadata": {},
   "outputs": [],
   "source": [
    "import sys\n",
    "\n",
    "#입력\n",
    "N=int(sys.stdin.readline())\n",
    "time=[]\n",
    "for i in range(N):\n",
    "    l=list(map(int, sys.stdin.readline().split()))\n",
    "    time.append(l)\n",
    "    \n",
    "# 회의 시작하는 순서대로 오름차순 정렬 후 끝나는 순서대로 오름차순 정렬\n",
    "time.sort(key=lambda x:x[0])\n",
    "time.sort(key=lambda x:x[1])\n",
    "\"\"\"\n",
    "↑↑↑ 이 부분을 아래처럼 해도 똑같은 결과 나옴. 이유는 모름.\n",
    "time.sort(key=lambda x:(x[1], x[0]))\n",
    "# 회의 끝나는 순서대로 정렬 후 시작 순서대로 오름차순 정렬\n",
    "\"\"\"\n",
    "\n",
    "# 가장 먼저 끝나는 회의는 무조건 넣기\n",
    "cnt = 1\n",
    "e_time=time[0][1]\n",
    "\n",
    "# 이미 선택한 회의와 안 겹치는 회의 추가하기\n",
    "for i in range(1, N):\n",
    "    if time[i][0] >= e_time:\n",
    "        cnt += 1\n",
    "        e_time = time[i][1]\n",
    "        \n",
    "print(cnt)"
   ]
  }
 ],
 "metadata": {
  "kernelspec": {
   "display_name": "Python 3",
   "language": "python",
   "name": "python3"
  },
  "language_info": {
   "codemirror_mode": {
    "name": "ipython",
    "version": 3
   },
   "file_extension": ".py",
   "mimetype": "text/x-python",
   "name": "python",
   "nbconvert_exporter": "python",
   "pygments_lexer": "ipython3",
   "version": "3.7.6"
  }
 },
 "nbformat": 4,
 "nbformat_minor": 4
}
